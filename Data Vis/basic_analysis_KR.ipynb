{
 "cells": [
  {
   "cell_type": "code",
   "execution_count": null,
   "metadata": {},
   "outputs": [],
   "source": [
    "import pandas as pd\n",
    "import os\n",
    "import kagglehub\n",
    "\n",
    "# Download the latest version of the dataset\n",
    "dataset_path = kagglehub.dataset_download(\"rabieelkharoua/alzheimers-disease-dataset\")\n",
    "\n",
    "print(\"Dataset path:\", dataset_path)\n",
    "\n",
    "# List files in the dataset directory\n",
    "files = os.listdir(dataset_path)\n",
    "print(\"Files in dataset:\", files)\n",
    "\n",
    "# Choose the correct CSV file\n",
    "csv_file = [f for f in files if f.endswith('.csv')]\n",
    "if not csv_file:\n",
    "    raise FileNotFoundError(\"No CSV file found in the dataset directory.\")\n",
    "csv_file_path = os.path.join(dataset_path, csv_file[0])\n",
    "\n",
    "# Load the CSV file into a DataFrame\n",
    "df = pd.read_csv(csv_file_path)\n",
    "\n",
    "# Display the first few rows\n",
    "print(df.head())"
   ]
  }
 ],
 "metadata": {
  "language_info": {
   "name": "python"
  }
 },
 "nbformat": 4,
 "nbformat_minor": 2
}
